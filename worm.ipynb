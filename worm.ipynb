{
  "nbformat": 4,
  "nbformat_minor": 0,
  "metadata": {
    "colab": {
      "name": "Untitled1.ipynb",
      "version": "0.3.2",
      "provenance": [],
      "include_colab_link": true
    },
    "kernelspec": {
      "name": "python3",
      "display_name": "Python 3"
    }
  },
  "cells": [
    {
      "cell_type": "markdown",
      "metadata": {
        "id": "view-in-github",
        "colab_type": "text"
      },
      "source": [
        "<a href=\"https://colab.research.google.com/github/akriegman/Wormhole-Geodesic/blob/master/worm.ipynb\" target=\"_parent\"><img src=\"https://colab.research.google.com/assets/colab-badge.svg\" alt=\"Open In Colab\"/></a>"
      ]
    },
    {
      "cell_type": "code",
      "metadata": {
        "id": "vh2ZhdRmqLbb",
        "colab_type": "code",
        "colab": {}
      },
      "source": [
        "import numpy as np\n",
        "\n",
        "def bandGEPP(A, b, depth):\n",
        "  #solves the system Ax = b when A has no elements depth below or above the diagonal\n",
        "  #so for a diagonal matrix depth = 1\n",
        "  #does not check for good input values, sorry\n",
        "  #runs in O(n*depth^2)\n",
        "  #postcondition: A and b are modified\n",
        "  \n",
        "  n = len(A)\n",
        "  \n",
        "  #row reduce\n",
        "  for col in range(n-1):\n",
        "    pivot = np.argmax([abs(r[col]) for r in A[col:col+depth]]) + col\n",
        "    \n",
        "    if not pivot == col:\n",
        "      A[col], A[pivot] = A[pivot], A[col]\n",
        "      b[col], b[pivot] = b[pivot], b[col]\n",
        "    \n",
        "    for row in range(col+1, min(col+depth, n)):\n",
        "      ratio = A[row][col] / A[col][col]\n",
        "      for i in range(col, min(col+2*depth-1, n)):\n",
        "        A[row][i] -= A[col][i] * ratio\n",
        "      b[row] -= b[col] * ratio\n",
        "  \n",
        "  #back substitute\n",
        "  x = []\n",
        "  for i in range(-1, -n-1, -1):\n",
        "    y = b[i]\n",
        "    for j in range(1, min(depth+1, -i)):\n",
        "      y -= A[i][i+j] * x[j-1]\n",
        "    y /= A[i][i]\n",
        "    x.insert(0, y)\n",
        "  \n",
        "  return x\n",
        "      "
      ],
      "execution_count": 0,
      "outputs": []
    },
    {
      "cell_type": "code",
      "metadata": {
        "id": "ySGqIZuvkZfj",
        "colab_type": "code",
        "colab": {}
      },
      "source": [
        "def NRworm(l, a, b):\n",
        "  #given a path, uses Newton-Raphson method to aproximate the geodesic\n",
        "  #specialized for a wormhole with metric ds^2 = dl^2 + (b^2 + l^2)da^2\n",
        "  #keeps first and last point constant\n",
        "  #for more information see https://cs.stanford.edu/people/jbaek/18.821.paper2.pdf\n",
        "  \n",
        "  n = len(l)\n",
        "  if not len(a) == n:\n",
        "    return 0, 0\n",
        "  \n",
        "  #create the vector H(X) - X with alternating l's and a's\n",
        "  X = [item for pair in zip(l, a) for item in pair][2:-2]\n",
        "  \n",
        "  Hl = [(l[k-1] + l[k+1])/2 - l[k] * (a[k+1] - a[k-1])**2/4\n",
        "       for k in range(1, n-1)]\n",
        "  Ha = [(a[k-1] + a[k+1])/2 + l[k] / (b**2 + l[k]**2) * (l[k+1] - l[k-1]) * (a[k+1] - a[k-1])/2\n",
        "       for k in range(1, n-1)]\n",
        "  HX = [item for pair in zip(Hl, Ha) for item in pair]\n",
        "  \n",
        "  B = [HX[i] - X[i] for i in range(2*n-4)]\n",
        "  \n",
        "  #setup the matrix dH(X) - I\n",
        "  A = [[0 for j in range(2*n-4)] for i in range(2*n-4)]\n",
        "  \n",
        "  for i, k in zip(range(0, 2*n-6, 2), range(1, n-2)):\n",
        "    A[i+2][i], A[i][i+2] = 0.5, 0.5\n",
        "    A[i+2][i+1] = l[k+1] * a[k] * (a[k+2]-a[k])/2\n",
        "    A[i][i+3] = -l[k] * a[k+1] * (a[k+1]-a[k-1])/2\n",
        "    A[i+1][i+3] = 0.5 + l[k] / (b*b + l[k]*l[k]) * (l[k+1] - l[k-1])/2\n",
        "    A[i+3][i+1] = 0.5 - l[k+1] / (b*b + l[k+1]*l[k+1]) * (l[k+2] - l[k])/2\n",
        "    A[i+1][i+2] = l[k] / (b*b + l[k]*l[k]) * (a[k+1] - a[k-1])/2\n",
        "    A[i+3][i] = -l[k+1] / (b*b + l[k+1]*l[k+1]) * (a[k+2] - a[k])/2\n",
        "  \n",
        "  for i, k in zip(range(0, 2*n-4, 2), range(1, n-1)):\n",
        "    A[i][i] = -1 - (a[k+1] - a[k-1])**2/4\n",
        "    A[i+1][i] = (b*b - l[k]*l[k]) / (b*b + l[k]*l[k])**2 * (l[k+1] - l[k-1]) * (a[k+1] - a[k-1])/2\n",
        "    A[i+1][i+1] = -1\n",
        "    \n",
        "  Z = bandGEPP(A, B, 4)\n",
        "  Z = [0,0] + Z + [0,0]\n",
        "  L = [l[k] - Z[2*k] for k in range(n)]\n",
        "  A = [a[k] - Z[2*k+1] for k in range(n)]\n",
        "  return L, A"
      ],
      "execution_count": 0,
      "outputs": []
    },
    {
      "cell_type": "code",
      "metadata": {
        "id": "GBpBaQxQDDNx",
        "colab_type": "code",
        "colab": {}
      },
      "source": [
        "def iterworm(l, a, b):\n",
        "  #different technique using functional iteration.\n",
        "  #for more information see https://cs.stanford.edu/people/jbaek/18.821.paper2.pdf\n",
        "  n = len(l)\n",
        "  Hl = [(l[k-1] + l[k+1])/2 - l[k] * (a[k+1] - a[k-1])**2/4\n",
        "       for k in range(1, n-1)]\n",
        "  Ha = [(a[k-1] + a[k+1])/2 + l[k] / (b**2 + l[k]**2) * (l[k+1] - l[k-1]) * (a[k+1] - a[k-1])/2\n",
        "       for k in range(1, n-1)]\n",
        "  Hl.insert(0, l[0])\n",
        "  Hl.append(l[-1])\n",
        "  Ha.insert(0, a[0])\n",
        "  Ha.append(a[-1])\n",
        "  return Hl, Ha"
      ],
      "execution_count": 0,
      "outputs": []
    },
    {
      "cell_type": "code",
      "metadata": {
        "id": "owgTF_s3SbtT",
        "colab_type": "code",
        "colab": {
          "base_uri": "https://localhost:8080/",
          "height": 34
        },
        "outputId": "ce4fad73-dcea-4215-aec7-05312cfb565c"
      },
      "source": [
        "m = [[0.0000002, 0.0000001, 0, 0],\n",
        "    [1, 2, 1, 0],\n",
        "    [0, 1, 2, 1],\n",
        "    [0, 0, 10000000, 20000000]]\n",
        "\n",
        "v = [0.0000002, 1, 4, 80000000]\n",
        "\n",
        "bandGEPP(m, v, 2)\n"
      ],
      "execution_count": 52,
      "outputs": [
        {
          "output_type": "execute_result",
          "data": {
            "text/plain": [
              "[1.0, 0.0, 0.0, 4.0]"
            ]
          },
          "metadata": {
            "tags": []
          },
          "execution_count": 52
        }
      ]
    },
    {
      "cell_type": "code",
      "metadata": {
        "id": "mEmxvnZEkUOy",
        "colab_type": "code",
        "colab": {
          "base_uri": "https://localhost:8080/",
          "height": 374
        },
        "outputId": "6ac5cf20-4d59-47cb-81c4-a6fe1873cb5a"
      },
      "source": [
        "import matplotlib.pyplot as plt\n",
        "import math\n",
        "b=1\n",
        "p = [8,0]\n",
        "q = [8, math.pi]\n",
        "N = 20\n",
        "l = [(k*p[0] + (N-k)*q[0])/N for k in range(N+1)]\n",
        "a = [(k*p[1] + (N-k)*q[1])/N for k in range(N+1)]\n",
        "\n",
        "for i in range(100):\n",
        "  l, a = iterworm(l, a, b)\n",
        "\n",
        "for i in range(0):\n",
        "  l, a = NRworm(l, a, b)\n",
        "\n",
        "x = [math.cos(a[k])*math.sqrt(b**2 + l[k]**2) for k in range(N+1)]\n",
        "y = [math.sin(a[k])*math.sqrt(b**2 + l[k]**2) for k in range(N+1)]\n",
        "plt.scatter(x, y)\n",
        "plt.show"
      ],
      "execution_count": 117,
      "outputs": [
        {
          "output_type": "error",
          "ename": "OverflowError",
          "evalue": "ignored",
          "traceback": [
            "\u001b[0;31m---------------------------------------------------------------------------\u001b[0m",
            "\u001b[0;31mOverflowError\u001b[0m                             Traceback (most recent call last)",
            "\u001b[0;32m<ipython-input-117-b62de742c438>\u001b[0m in \u001b[0;36m<module>\u001b[0;34m()\u001b[0m\n\u001b[1;32m      9\u001b[0m \u001b[0;34m\u001b[0m\u001b[0m\n\u001b[1;32m     10\u001b[0m \u001b[0;32mfor\u001b[0m \u001b[0mi\u001b[0m \u001b[0;32min\u001b[0m \u001b[0mrange\u001b[0m\u001b[0;34m(\u001b[0m\u001b[0;36m100\u001b[0m\u001b[0;34m)\u001b[0m\u001b[0;34m:\u001b[0m\u001b[0;34m\u001b[0m\u001b[0;34m\u001b[0m\u001b[0m\n\u001b[0;32m---> 11\u001b[0;31m   \u001b[0ml\u001b[0m\u001b[0;34m,\u001b[0m \u001b[0ma\u001b[0m \u001b[0;34m=\u001b[0m \u001b[0miterworm\u001b[0m\u001b[0;34m(\u001b[0m\u001b[0ml\u001b[0m\u001b[0;34m,\u001b[0m \u001b[0ma\u001b[0m\u001b[0;34m,\u001b[0m \u001b[0mb\u001b[0m\u001b[0;34m)\u001b[0m\u001b[0;34m\u001b[0m\u001b[0;34m\u001b[0m\u001b[0m\n\u001b[0m\u001b[1;32m     12\u001b[0m \u001b[0;34m\u001b[0m\u001b[0m\n\u001b[1;32m     13\u001b[0m \u001b[0;32mfor\u001b[0m \u001b[0mi\u001b[0m \u001b[0;32min\u001b[0m \u001b[0mrange\u001b[0m\u001b[0;34m(\u001b[0m\u001b[0;36m0\u001b[0m\u001b[0;34m)\u001b[0m\u001b[0;34m:\u001b[0m\u001b[0;34m\u001b[0m\u001b[0;34m\u001b[0m\u001b[0m\n",
            "\u001b[0;32m<ipython-input-111-0796014883ba>\u001b[0m in \u001b[0;36miterworm\u001b[0;34m(l, a, b)\u001b[0m\n\u001b[1;32m      4\u001b[0m        for k in range(1, n-1)]\n\u001b[1;32m      5\u001b[0m   Ha = [(a[k-1] + a[k+1])/2 + l[k] / (b**2 + l[k]**2) * (l[k+1] - l[k-1]) * (a[k+1] - a[k-1])/2\n\u001b[0;32m----> 6\u001b[0;31m        for k in range(1, n-1)]\n\u001b[0m\u001b[1;32m      7\u001b[0m   \u001b[0mHl\u001b[0m\u001b[0;34m.\u001b[0m\u001b[0minsert\u001b[0m\u001b[0;34m(\u001b[0m\u001b[0;36m0\u001b[0m\u001b[0;34m,\u001b[0m \u001b[0ml\u001b[0m\u001b[0;34m[\u001b[0m\u001b[0;36m0\u001b[0m\u001b[0;34m]\u001b[0m\u001b[0;34m)\u001b[0m\u001b[0;34m\u001b[0m\u001b[0;34m\u001b[0m\u001b[0m\n\u001b[1;32m      8\u001b[0m   \u001b[0mHl\u001b[0m\u001b[0;34m.\u001b[0m\u001b[0mappend\u001b[0m\u001b[0;34m(\u001b[0m\u001b[0ml\u001b[0m\u001b[0;34m[\u001b[0m\u001b[0;34m-\u001b[0m\u001b[0;36m1\u001b[0m\u001b[0;34m]\u001b[0m\u001b[0;34m)\u001b[0m\u001b[0;34m\u001b[0m\u001b[0;34m\u001b[0m\u001b[0m\n",
            "\u001b[0;32m<ipython-input-111-0796014883ba>\u001b[0m in \u001b[0;36m<listcomp>\u001b[0;34m(.0)\u001b[0m\n\u001b[1;32m      4\u001b[0m        for k in range(1, n-1)]\n\u001b[1;32m      5\u001b[0m   Ha = [(a[k-1] + a[k+1])/2 + l[k] / (b**2 + l[k]**2) * (l[k+1] - l[k-1]) * (a[k+1] - a[k-1])/2\n\u001b[0;32m----> 6\u001b[0;31m        for k in range(1, n-1)]\n\u001b[0m\u001b[1;32m      7\u001b[0m   \u001b[0mHl\u001b[0m\u001b[0;34m.\u001b[0m\u001b[0minsert\u001b[0m\u001b[0;34m(\u001b[0m\u001b[0;36m0\u001b[0m\u001b[0;34m,\u001b[0m \u001b[0ml\u001b[0m\u001b[0;34m[\u001b[0m\u001b[0;36m0\u001b[0m\u001b[0;34m]\u001b[0m\u001b[0;34m)\u001b[0m\u001b[0;34m\u001b[0m\u001b[0;34m\u001b[0m\u001b[0m\n\u001b[1;32m      8\u001b[0m   \u001b[0mHl\u001b[0m\u001b[0;34m.\u001b[0m\u001b[0mappend\u001b[0m\u001b[0;34m(\u001b[0m\u001b[0ml\u001b[0m\u001b[0;34m[\u001b[0m\u001b[0;34m-\u001b[0m\u001b[0;36m1\u001b[0m\u001b[0;34m]\u001b[0m\u001b[0;34m)\u001b[0m\u001b[0;34m\u001b[0m\u001b[0;34m\u001b[0m\u001b[0m\n",
            "\u001b[0;31mOverflowError\u001b[0m: (34, 'Numerical result out of range')"
          ]
        }
      ]
    },
    {
      "cell_type": "code",
      "metadata": {
        "id": "JFkjzWAg_gzE",
        "colab_type": "code",
        "colab": {
          "base_uri": "https://localhost:8080/",
          "height": 34
        },
        "outputId": "6bbdd1fc-dee0-4a83-e797-3002f11ae18e"
      },
      "source": [
        "# m = [1,2]\n",
        "m.insert(0,-1)\n",
        "m.append(2)\n",
        "m"
      ],
      "execution_count": 95,
      "outputs": [
        {
          "output_type": "execute_result",
          "data": {
            "text/plain": [
              "[-1, 1, 2, 2]"
            ]
          },
          "metadata": {
            "tags": []
          },
          "execution_count": 95
        }
      ]
    },
    {
      "cell_type": "code",
      "metadata": {
        "id": "9Zk9zCdIDaAG",
        "colab_type": "code",
        "colab": {}
      },
      "source": [
        ""
      ],
      "execution_count": 0,
      "outputs": []
    }
  ]
}